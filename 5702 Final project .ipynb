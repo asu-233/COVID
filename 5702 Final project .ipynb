{
 "cells": [
  {
   "cell_type": "code",
   "execution_count": 1,
   "metadata": {},
   "outputs": [],
   "source": [
    "import pandas as pd\n",
    "from datetime import datetime\n",
    "import tqdm\n",
    "import os\n",
    "db_source = '/Users/michelle/Downloads/csse_covid_19_daily_reports_us'\n",
    "data = pd.DataFrame()\n",
    "for file in os.listdir(db_source):\n",
    "    try:\n",
    "        crt_date, crt_ext = crt_file = file.split(\".\")\n",
    "        if crt_ext == \"csv\":\n",
    "            crt_date_df = pd.read_csv(os.path.join(db_source, file))\n",
    "            crt_date_df['Last_Update'] = crt_date\n",
    "            crt_date_df['date'] = crt_date_df['Last_Update'].apply(lambda x: datetime.strptime(x, \"%m-%d-%Y\"))\n",
    "            data = data.append(crt_date_df)\n",
    "    except:\n",
    "        pass\n",
    "\n"
   ]
  },
  {
   "cell_type": "code",
   "execution_count": 2,
   "metadata": {},
   "outputs": [
    {
     "data": {
      "text/markdown": [
       "<br>**Missing Points**:"
      ],
      "text/plain": [
       "<IPython.core.display.Markdown object>"
      ]
     },
     "metadata": {},
     "output_type": "display_data"
    },
    {
     "data": {
      "text/plain": [
       "Province_State              0\n",
       "Country_Region              0\n",
       "Last_Update                 0\n",
       "Lat                       732\n",
       "Long_                     732\n",
       "Confirmed                   0\n",
       "Deaths                      0\n",
       "Recovered                5602\n",
       "Active                   1641\n",
       "FIPS                       19\n",
       "Incident_Rate             732\n",
       "Total_Test_Results      12548\n",
       "People_Hospitalized     15595\n",
       "Case_Fatality_Ratio     12402\n",
       "UID                         0\n",
       "ISO3                        0\n",
       "Testing_Rate              732\n",
       "Hospitalization_Rate    15595\n",
       "date                        0\n",
       "People_Tested            8908\n",
       "Mortality_Rate           8697\n",
       "dtype: int64"
      ]
     },
     "metadata": {},
     "output_type": "display_data"
    },
    {
     "data": {
      "text/markdown": [
       "<br>**Missing Percentage**:"
      ],
      "text/plain": [
       "<IPython.core.display.Markdown object>"
      ]
     },
     "metadata": {},
     "output_type": "display_data"
    },
    {
     "data": {
      "text/plain": [
       "Province_State          0.000000\n",
       "Country_Region          0.000000\n",
       "Last_Update             0.000000\n",
       "Lat                     0.035321\n",
       "Long_                   0.035321\n",
       "Confirmed               0.000000\n",
       "Deaths                  0.000000\n",
       "Recovered               0.270315\n",
       "Active                  0.079184\n",
       "FIPS                    0.000917\n",
       "Incident_Rate           0.035321\n",
       "Total_Test_Results      0.605482\n",
       "People_Hospitalized     0.752509\n",
       "Case_Fatality_Ratio     0.598437\n",
       "UID                     0.000000\n",
       "ISO3                    0.000000\n",
       "Testing_Rate            0.035321\n",
       "Hospitalization_Rate    0.752509\n",
       "date                    0.000000\n",
       "People_Tested           0.429840\n",
       "Mortality_Rate          0.419658\n",
       "dtype: float64"
      ]
     },
     "metadata": {},
     "output_type": "display_data"
    }
   ],
   "source": [
    "from IPython.display import display, Markdown\n",
    "\n",
    "def missing_value(df):\n",
    "    display(Markdown(\"<br>**Missing Points**:\"))\n",
    "    display(data.isnull().sum())\n",
    "    display(Markdown(\"<br>**Missing Percentage**:\"))\n",
    "    display(data.isnull().sum()/len(df))\n",
    "    \n",
    "missing_value(data)\n",
    "\n"
   ]
  },
  {
   "cell_type": "code",
   "execution_count": 4,
   "metadata": {},
   "outputs": [],
   "source": [
    "state = data['Province_State'].unique()"
   ]
  },
  {
   "cell_type": "code",
   "execution_count": 22,
   "metadata": {},
   "outputs": [
    {
     "data": {
      "text/plain": [
       "array(['Alabama', 'Alaska', 'American Samoa', 'Arizona', 'Arkansas',\n",
       "       'California', 'Colorado', 'Connecticut', 'Delaware',\n",
       "       'Diamond Princess', 'District of Columbia', 'Florida', 'Georgia',\n",
       "       'Grand Princess', 'Guam', 'Hawaii', 'Idaho', 'Illinois', 'Indiana',\n",
       "       'Iowa', 'Kansas', 'Kentucky', 'Louisiana', 'Maine', 'Maryland',\n",
       "       'Massachusetts', 'Michigan', 'Minnesota', 'Mississippi',\n",
       "       'Missouri', 'Montana', 'Nebraska', 'Nevada', 'New Hampshire',\n",
       "       'New Jersey', 'New Mexico', 'New York', 'North Carolina',\n",
       "       'North Dakota', 'Northern Mariana Islands', 'Ohio', 'Oklahoma',\n",
       "       'Oregon', 'Pennsylvania', 'Puerto Rico', 'Rhode Island',\n",
       "       'South Carolina', 'South Dakota', 'Tennessee', 'Texas', 'Utah',\n",
       "       'Vermont', 'Virgin Islands', 'Virginia', 'Washington',\n",
       "       'West Virginia', 'Wisconsin', 'Wyoming', 'Recovered'], dtype=object)"
      ]
     },
     "execution_count": 22,
     "metadata": {},
     "output_type": "execute_result"
    }
   ],
   "source": [
    "state"
   ]
  },
  {
   "cell_type": "code",
   "execution_count": 13,
   "metadata": {},
   "outputs": [],
   "source": [
    "for s in state:\n",
    "    data.loc[(data['Province_State'] == s) & (data['Lat'].isna()),'Lat'] = data.loc[(~data['Lat'].isna()) & (data['Province_State']==s), 'Lat'].median()\n",
    "    data.loc[(data['Province_State']== s) & (data['Long_'].isna()), 'Long_'] = data.loc[(~data['Long_'].isna()) & (data['Province_State']== s), 'Long_'].median() \n",
    "\n"
   ]
  },
  {
   "cell_type": "code",
   "execution_count": 21,
   "metadata": {},
   "outputs": [
    {
     "data": {
      "text/plain": [
       "array(['Diamond Princess', 'Grand Princess', 'Recovered'], dtype=object)"
      ]
     },
     "execution_count": 21,
     "metadata": {},
     "output_type": "execute_result"
    }
   ],
   "source": [
    "data.loc[(data['Lat'].isna()),'Province_State'].unique()"
   ]
  },
  {
   "cell_type": "code",
   "execution_count": null,
   "metadata": {},
   "outputs": [],
   "source": [
    "data = data[['Province_State', 'Country_Region', 'date', 'Lat','Long_','Confirmed', 'Deaths', 'Recovered']]"
   ]
  },
  {
   "cell_type": "code",
   "execution_count": null,
   "metadata": {},
   "outputs": [],
   "source": [
    "data = data[ ~(data['Province_State'] == 'Recovered')]"
   ]
  },
  {
   "cell_type": "code",
   "execution_count": null,
   "metadata": {},
   "outputs": [],
   "source": [
    "data.to_csv('/Users/michelle/Downloads/covid-data-us.csv')"
   ]
  },
  {
   "cell_type": "code",
   "execution_count": 14,
   "metadata": {},
   "outputs": [
    {
     "data": {
      "text/markdown": [
       "<br>**Missing Points**:"
      ],
      "text/plain": [
       "<IPython.core.display.Markdown object>"
      ]
     },
     "metadata": {},
     "output_type": "display_data"
    },
    {
     "data": {
      "text/plain": [
       "Province_State              0\n",
       "Country_Region              0\n",
       "Last_Update                 0\n",
       "Lat                       732\n",
       "Long_                     732\n",
       "Confirmed                   0\n",
       "Deaths                      0\n",
       "Recovered                5602\n",
       "Active                   1641\n",
       "FIPS                       19\n",
       "Incident_Rate             732\n",
       "Total_Test_Results      12548\n",
       "People_Hospitalized     15595\n",
       "Case_Fatality_Ratio     12402\n",
       "UID                         0\n",
       "ISO3                        0\n",
       "Testing_Rate              732\n",
       "Hospitalization_Rate    15595\n",
       "date                        0\n",
       "People_Tested            8908\n",
       "Mortality_Rate           8697\n",
       "dtype: int64"
      ]
     },
     "metadata": {},
     "output_type": "display_data"
    },
    {
     "data": {
      "text/markdown": [
       "<br>**Missing Percentage**:"
      ],
      "text/plain": [
       "<IPython.core.display.Markdown object>"
      ]
     },
     "metadata": {},
     "output_type": "display_data"
    },
    {
     "data": {
      "text/plain": [
       "Province_State          0.000000\n",
       "Country_Region          0.000000\n",
       "Last_Update             0.000000\n",
       "Lat                     0.035321\n",
       "Long_                   0.035321\n",
       "Confirmed               0.000000\n",
       "Deaths                  0.000000\n",
       "Recovered               0.270315\n",
       "Active                  0.079184\n",
       "FIPS                    0.000917\n",
       "Incident_Rate           0.035321\n",
       "Total_Test_Results      0.605482\n",
       "People_Hospitalized     0.752509\n",
       "Case_Fatality_Ratio     0.598437\n",
       "UID                     0.000000\n",
       "ISO3                    0.000000\n",
       "Testing_Rate            0.035321\n",
       "Hospitalization_Rate    0.752509\n",
       "date                    0.000000\n",
       "People_Tested           0.429840\n",
       "Mortality_Rate          0.419658\n",
       "dtype: float64"
      ]
     },
     "metadata": {},
     "output_type": "display_data"
    }
   ],
   "source": [
    "missing_value(data)"
   ]
  },
  {
   "cell_type": "code",
   "execution_count": null,
   "metadata": {},
   "outputs": [],
   "source": []
  }
 ],
 "metadata": {
  "kernelspec": {
   "display_name": "Python 3",
   "language": "python",
   "name": "python3"
  },
  "language_info": {
   "codemirror_mode": {
    "name": "ipython",
    "version": 3
   },
   "file_extension": ".py",
   "mimetype": "text/x-python",
   "name": "python",
   "nbconvert_exporter": "python",
   "pygments_lexer": "ipython3",
   "version": "3.7.4"
  }
 },
 "nbformat": 4,
 "nbformat_minor": 2
}
